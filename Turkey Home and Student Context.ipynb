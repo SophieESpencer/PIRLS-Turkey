{
 "cells": [
  {
   "cell_type": "code",
   "execution_count": 1,
   "metadata": {},
   "outputs": [],
   "source": [
    "import pandas as pd\n",
    "import numpy as np\n",
    "pd.set_option(\"display.max_columns\", None)\n",
    "pd.set_option(\"display.max_rows\", None)\n",
    "HC = pd.read_excel(\"ASHTURR5.xlsx\")\n",
    "SC = pd.read_excel(\"ASGTURR5.xlsx\")"
   ]
  },
  {
   "cell_type": "code",
   "execution_count": 2,
   "metadata": {},
   "outputs": [
    {
     "name": "stdout",
     "output_type": "stream",
     "text": [
      "<class 'pandas.core.frame.DataFrame'>\n",
      "RangeIndex: 6032 entries, 0 to 6031\n",
      "Columns: 118 entries, IDCNTRY to SCOPE\n",
      "dtypes: float64(108), int64(10)\n",
      "memory usage: 5.4 MB\n"
     ]
    }
   ],
   "source": [
    "HC.info()"
   ]
  },
  {
   "cell_type": "markdown",
   "metadata": {},
   "source": [
    "HC is the home context data. This is a questionnaire filled in by the parents of each student. It contains crucial information on the immigration status of students and the languages they speak. "
   ]
  },
  {
   "cell_type": "code",
   "execution_count": 3,
   "metadata": {},
   "outputs": [
    {
     "name": "stdout",
     "output_type": "stream",
     "text": [
      "<class 'pandas.core.frame.DataFrame'>\n",
      "RangeIndex: 6032 entries, 0 to 6031\n",
      "Columns: 155 entries, IDCNTRY to SCOPE\n",
      "dtypes: float64(129), int64(26)\n",
      "memory usage: 7.1 MB\n"
     ]
    }
   ],
   "source": [
    "SC.info()"
   ]
  },
  {
   "cell_type": "markdown",
   "metadata": {},
   "source": [
    "SC is the Student Context data which is a questionnaire filled in by the students themselves as well as some totals on their achievement in the test. As we can see there are 6032 children who took part in this assessment in Turkey. "
   ]
  },
  {
   "cell_type": "markdown",
   "metadata": {},
   "source": [
    "Let's look at the ages these children came to the country. ASBH02B 1: Younger than 3 years old; 2: 3 to 5 years old; 3: 6 to 7 years old; 4: 8 years old or older"
   ]
  },
  {
   "cell_type": "code",
   "execution_count": 4,
   "metadata": {},
   "outputs": [
    {
     "name": "stdout",
     "output_type": "stream",
     "text": [
      "227\n"
     ]
    }
   ],
   "source": [
    "number_immigrant_children = HC[HC[\"ASBH02B\"]< 6.0].shape[0]\n",
    "print(number_immigrant_children)"
   ]
  },
  {
   "cell_type": "markdown",
   "metadata": {},
   "source": [
    "This is about 30 more than Germany but the Turkey sample size is bigger - 6032 kids, compared to 4611 in Germany. "
   ]
  },
  {
   "cell_type": "markdown",
   "metadata": {},
   "source": [
    "Now I will merge the two datasets together for fuller comparison potential."
   ]
  },
  {
   "cell_type": "code",
   "execution_count": 6,
   "metadata": {},
   "outputs": [],
   "source": [
    "df = pd.merge(HC, SC, on=None)"
   ]
  },
  {
   "cell_type": "code",
   "execution_count": 7,
   "metadata": {},
   "outputs": [
    {
     "data": {
      "text/plain": [
       "6.0    5366\n",
       "1.0      89\n",
       "2.0      70\n",
       "3.0      53\n",
       "9.0      31\n",
       "4.0      15\n",
       "Name: ASBH02B, dtype: int64"
      ]
     },
     "execution_count": 7,
     "metadata": {},
     "output_type": "execute_result"
    }
   ],
   "source": [
    "df['ASBH02B'].value_counts()"
   ]
  },
  {
   "cell_type": "markdown",
   "metadata": {},
   "source": [
    "How many children spoke Turkish before they started school? ASBH03A (1 is yes, 2 is no)"
   ]
  },
  {
   "cell_type": "code",
   "execution_count": 8,
   "metadata": {},
   "outputs": [
    {
     "data": {
      "text/plain": [
       "1.0    5080\n",
       "2.0     461\n",
       "9.0      83\n",
       "Name: ASBH03A, dtype: int64"
      ]
     },
     "execution_count": 8,
     "metadata": {},
     "output_type": "execute_result"
    }
   ],
   "source": [
    "df['ASBH03A'].value_counts()"
   ]
  },
  {
   "cell_type": "code",
   "execution_count": 9,
   "metadata": {},
   "outputs": [],
   "source": [
    "def populate_column(row):\n",
    "    if row['ASBH02B'] == 1:\n",
    "        return 0\n",
    "    elif row['ASBH02B'] == 2:\n",
    "        return 3\n",
    "    elif row['ASBH02B'] == 3:\n",
    "        return 6\n",
    "    elif row['ASBH02B'] == 4:\n",
    "        return 8\n",
    "    else:\n",
    "        return None  # Or any default value\n",
    "\n",
    "# Apply the function to each row\n",
    "df['MINAGEARRIVAL'] = df.apply(populate_column, axis=1)"
   ]
  },
  {
   "cell_type": "code",
   "execution_count": 10,
   "metadata": {},
   "outputs": [
    {
     "data": {
      "text/plain": [
       "0.0    89\n",
       "3.0    70\n",
       "6.0    53\n",
       "8.0    15\n",
       "Name: MINAGEARRIVAL, dtype: int64"
      ]
     },
     "execution_count": 10,
     "metadata": {},
     "output_type": "execute_result"
    }
   ],
   "source": [
    "df['MINAGEARRIVAL'].value_counts()"
   ]
  },
  {
   "cell_type": "code",
   "execution_count": 11,
   "metadata": {},
   "outputs": [
    {
     "data": {
      "text/plain": [
       "10.0    5092\n",
       "9.0      535\n",
       "11.0     369\n",
       "12.0      27\n",
       "14.0       4\n",
       "8.0        2\n",
       "13.0       2\n",
       "99.0       1\n",
       "Name: ASDAGE, dtype: int64"
      ]
     },
     "execution_count": 11,
     "metadata": {},
     "output_type": "execute_result"
    }
   ],
   "source": [
    "df['ASDAGE'].round().value_counts()"
   ]
  },
  {
   "cell_type": "code",
   "execution_count": 12,
   "metadata": {},
   "outputs": [],
   "source": [
    "df['rounded_ages'] = df['ASDAGE'].round()"
   ]
  },
  {
   "cell_type": "markdown",
   "metadata": {},
   "source": [
    "We want to find the arabic speaking children now"
   ]
  },
  {
   "cell_type": "code",
   "execution_count": 13,
   "metadata": {},
   "outputs": [
    {
     "data": {
      "text/plain": [
       "Index(['IDCNTRY', 'IDPOP', 'IDGRADER', 'IDGRADE', 'WAVE', 'IDSCHOOL',\n",
       "       'IDCLASS', 'IDSTUD', 'ITLANG_HQ', 'LCID_HQ',\n",
       "       ...\n",
       "       'ASBGDRL', 'ASDGDRL', 'ASBGSLR', 'ASDGSLR', 'ASBGSCR', 'ASDGSCR',\n",
       "       'ASDG05S', 'ASDRLOWP', 'MINAGEARRIVAL', 'rounded_ages'],\n",
       "      dtype='object', length=263)"
      ]
     },
     "execution_count": 13,
     "metadata": {},
     "output_type": "execute_result"
    }
   ],
   "source": [
    "df.columns"
   ]
  },
  {
   "cell_type": "code",
   "execution_count": 14,
   "metadata": {},
   "outputs": [
    {
     "data": {
      "text/plain": [
       "['IDCNTRY',\n",
       " 'IDPOP',\n",
       " 'IDGRADER',\n",
       " 'IDGRADE',\n",
       " 'WAVE',\n",
       " 'IDSCHOOL',\n",
       " 'IDCLASS',\n",
       " 'IDSTUD',\n",
       " 'ITLANG_HQ',\n",
       " 'LCID_HQ',\n",
       " 'ASBH01A',\n",
       " 'ASBH01B',\n",
       " 'ASBH01C',\n",
       " 'ASBH01D',\n",
       " 'ASBH01E',\n",
       " 'ASBH01F',\n",
       " 'ASBH01G',\n",
       " 'ASBH01H',\n",
       " 'ASBH01I',\n",
       " 'ASBH01J',\n",
       " 'ASBH01K',\n",
       " 'ASBH01L',\n",
       " 'ASBH01M',\n",
       " 'ASBH01N',\n",
       " 'ASBH01O',\n",
       " 'ASBH01P',\n",
       " 'ASBH01Q',\n",
       " 'ASBH01R',\n",
       " 'ASBH02A',\n",
       " 'ASBH02B',\n",
       " 'ASBH03A',\n",
       " 'ASBH03B',\n",
       " 'ASBH03C',\n",
       " 'ASBH03D',\n",
       " 'ASBH03E',\n",
       " 'ASBH03F',\n",
       " 'ASBH04',\n",
       " 'ASBH05AA',\n",
       " 'ASBH05AB',\n",
       " 'ASBH05B',\n",
       " 'ASBH06',\n",
       " 'ASBH07A',\n",
       " 'ASBH07B',\n",
       " 'ASBH07C',\n",
       " 'ASBH07D',\n",
       " 'ASBH07E',\n",
       " 'ASBH07F',\n",
       " 'ASBH07G',\n",
       " 'ASBH08A',\n",
       " 'ASBH08B',\n",
       " 'ASBH08C',\n",
       " 'ASBH08D',\n",
       " 'ASBH08E',\n",
       " 'ASBH08F',\n",
       " 'ASBH09',\n",
       " 'ASBH10',\n",
       " 'ASBH11A',\n",
       " 'ASBH11B',\n",
       " 'ASBH11C',\n",
       " 'ASBH11D',\n",
       " 'ASBH11E',\n",
       " 'ASBH11F',\n",
       " 'ASBH11G',\n",
       " 'ASBH11H',\n",
       " 'ASBH12',\n",
       " 'ASBH13',\n",
       " 'ASBH14A',\n",
       " 'ASBH14B',\n",
       " 'ASBH14C',\n",
       " 'ASBH15A',\n",
       " 'ASBH15B',\n",
       " 'ASBH16',\n",
       " 'ASBH17A',\n",
       " 'ASBH17B',\n",
       " 'ASBH18AA',\n",
       " 'ASBH18AB',\n",
       " 'ASBH18BA',\n",
       " 'ASBH18BB',\n",
       " 'ASBH18CA',\n",
       " 'ASBH18CB',\n",
       " 'ASBH18DA',\n",
       " 'ASBH18DB',\n",
       " 'ASBH18EA',\n",
       " 'ASBH18EB',\n",
       " 'ASBH18FA',\n",
       " 'ASBH18FB',\n",
       " 'ASBH18GA',\n",
       " 'ASBH18GB',\n",
       " 'ASBH19',\n",
       " 'ASBH20A',\n",
       " 'ASBH20B',\n",
       " 'ASBH20C',\n",
       " 'ASBH21A',\n",
       " 'ASBH21B',\n",
       " 'ASBH21C',\n",
       " 'ASBH21D',\n",
       " 'ASBH22',\n",
       " 'ASBGHRL',\n",
       " 'ASDGHRL',\n",
       " 'ASBHSES',\n",
       " 'ASDHSES',\n",
       " 'ASBHELA',\n",
       " 'ASDHELA',\n",
       " 'ASBHENA',\n",
       " 'ASDHENA',\n",
       " 'ASBHELN',\n",
       " 'ASDHELN',\n",
       " 'ASBHELT',\n",
       " 'ASDHELT',\n",
       " 'ASBHPCS',\n",
       " 'ASDHPCS',\n",
       " 'ASBHPLR',\n",
       " 'ASDHPLR',\n",
       " 'ASDHAPS',\n",
       " 'ASDHEDUP',\n",
       " 'ASDHOCCP',\n",
       " 'VERSION',\n",
       " 'SCOPE',\n",
       " 'ITSEX',\n",
       " 'ITADMINI',\n",
       " 'LCID_SA',\n",
       " 'LCID_SQ',\n",
       " 'ITLANG_SA',\n",
       " 'ITLANG_SQ',\n",
       " 'IDBOOK',\n",
       " 'ASBG01',\n",
       " 'ASBG03',\n",
       " 'ASBG04',\n",
       " 'ASBG05A',\n",
       " 'ASBG05B',\n",
       " 'ASBG05C',\n",
       " 'ASBG05D',\n",
       " 'ASBG05E',\n",
       " 'ASBG05F',\n",
       " 'ASBG05G',\n",
       " 'ASBG05H',\n",
       " 'ASBG05I',\n",
       " 'ASBG05J',\n",
       " 'ASBG05K',\n",
       " 'ASBG06',\n",
       " 'ASBG07A',\n",
       " 'ASBG07B',\n",
       " 'ASBG08A',\n",
       " 'ASBG08B',\n",
       " 'ASBG09A',\n",
       " 'ASBG09B',\n",
       " 'ASBG09C',\n",
       " 'ASBG09D',\n",
       " 'ASBG09E',\n",
       " 'ASBG09F',\n",
       " 'ASBG09G',\n",
       " 'ASBG09H',\n",
       " 'ASBG10A',\n",
       " 'ASBG10B',\n",
       " 'ASBG10C',\n",
       " 'ASBG10D',\n",
       " 'ASBG10E',\n",
       " 'ASBG10F',\n",
       " 'ASBG11A',\n",
       " 'ASBG11B',\n",
       " 'ASBG11C',\n",
       " 'ASBG11D',\n",
       " 'ASBG11E',\n",
       " 'ASBG11F',\n",
       " 'ASBG11G',\n",
       " 'ASBG11H',\n",
       " 'ASBG11I',\n",
       " 'ASBG11J',\n",
       " 'ASBR01A',\n",
       " 'ASBR01B',\n",
       " 'ASBR01C',\n",
       " 'ASBR01D',\n",
       " 'ASBR01E',\n",
       " 'ASBR01F',\n",
       " 'ASBR01G',\n",
       " 'ASBR01H',\n",
       " 'ASBR01I',\n",
       " 'ASBR02A',\n",
       " 'ASBR02B',\n",
       " 'ASBR02C',\n",
       " 'ASBR02D',\n",
       " 'ASBR02E',\n",
       " 'ASBR03A',\n",
       " 'ASBR03B',\n",
       " 'ASBR03C',\n",
       " 'ASBR04',\n",
       " 'ASBR05',\n",
       " 'ASBR06A',\n",
       " 'ASBR06B',\n",
       " 'ASBR07A',\n",
       " 'ASBR07B',\n",
       " 'ASBR07C',\n",
       " 'ASBR07D',\n",
       " 'ASBR07E',\n",
       " 'ASBR07F',\n",
       " 'ASBR07G',\n",
       " 'ASBR07H',\n",
       " 'ASBR08A',\n",
       " 'ASBR08B',\n",
       " 'ASBR08C',\n",
       " 'ASBR08D',\n",
       " 'ASBR08E',\n",
       " 'ASBR08F',\n",
       " 'ASDAGE',\n",
       " 'HOUWGT',\n",
       " 'TOTWGT',\n",
       " 'SENWGT',\n",
       " 'WGTADJ1',\n",
       " 'WGTADJ2',\n",
       " 'WGTADJ3',\n",
       " 'WGTFAC1',\n",
       " 'WGTFAC2',\n",
       " 'WGTFAC3',\n",
       " 'JKREP',\n",
       " 'JKZONE',\n",
       " 'ASRREA01',\n",
       " 'ASRREA02',\n",
       " 'ASRREA03',\n",
       " 'ASRREA04',\n",
       " 'ASRREA05',\n",
       " 'ASRLIT01',\n",
       " 'ASRLIT02',\n",
       " 'ASRLIT03',\n",
       " 'ASRLIT04',\n",
       " 'ASRLIT05',\n",
       " 'ASRINF01',\n",
       " 'ASRINF02',\n",
       " 'ASRINF03',\n",
       " 'ASRINF04',\n",
       " 'ASRINF05',\n",
       " 'ASRIIE01',\n",
       " 'ASRIIE02',\n",
       " 'ASRIIE03',\n",
       " 'ASRIIE04',\n",
       " 'ASRIIE05',\n",
       " 'ASRRSI01',\n",
       " 'ASRRSI02',\n",
       " 'ASRRSI03',\n",
       " 'ASRRSI04',\n",
       " 'ASRRSI05',\n",
       " 'ASRIBM01',\n",
       " 'ASRIBM02',\n",
       " 'ASRIBM03',\n",
       " 'ASRIBM04',\n",
       " 'ASRIBM05',\n",
       " 'ASBGSEC',\n",
       " 'ASDGSEC',\n",
       " 'ASBGSSB',\n",
       " 'ASDGSSB',\n",
       " 'ASBGSB',\n",
       " 'ASDGSB',\n",
       " 'ASBGERL',\n",
       " 'ASDGERL',\n",
       " 'ASBGDRL',\n",
       " 'ASDGDRL',\n",
       " 'ASBGSLR',\n",
       " 'ASDGSLR',\n",
       " 'ASBGSCR',\n",
       " 'ASDGSCR',\n",
       " 'ASDG05S',\n",
       " 'ASDRLOWP',\n",
       " 'MINAGEARRIVAL',\n",
       " 'rounded_ages']"
      ]
     },
     "execution_count": 14,
     "metadata": {},
     "output_type": "execute_result"
    }
   ],
   "source": [
    "df.columns.to_list()"
   ]
  },
  {
   "cell_type": "code",
   "execution_count": null,
   "metadata": {},
   "outputs": [],
   "source": []
  }
 ],
 "metadata": {
  "kernelspec": {
   "display_name": "Python 3",
   "language": "python",
   "name": "python3"
  },
  "language_info": {
   "codemirror_mode": {
    "name": "ipython",
    "version": 3
   },
   "file_extension": ".py",
   "mimetype": "text/x-python",
   "name": "python",
   "nbconvert_exporter": "python",
   "pygments_lexer": "ipython3",
   "version": "3.7.6"
  }
 },
 "nbformat": 4,
 "nbformat_minor": 4
}
