{
 "cells": [
  {
   "cell_type": "code",
   "execution_count": 1,
   "metadata": {},
   "outputs": [],
   "source": [
    "import pandas as pd\n",
    "import numpy as np\n",
    "pd.set_option(\"display.max_columns\", None)\n",
    "pd.set_option(\"display.max_rows\", None)\n",
    "HC = pd.read_excel(\"ASHTURR5.xlsx\")\n",
    "SC = pd.read_excel(\"ASGTURR5.xlsx\")"
   ]
  },
  {
   "cell_type": "code",
   "execution_count": 2,
   "metadata": {},
   "outputs": [
    {
     "name": "stdout",
     "output_type": "stream",
     "text": [
      "<class 'pandas.core.frame.DataFrame'>\n",
      "RangeIndex: 6032 entries, 0 to 6031\n",
      "Columns: 118 entries, IDCNTRY to SCOPE\n",
      "dtypes: float64(108), int64(10)\n",
      "memory usage: 5.4 MB\n"
     ]
    }
   ],
   "source": [
    "HC.info()"
   ]
  },
  {
   "cell_type": "markdown",
   "metadata": {},
   "source": [
    "HC is the home context data. This is a questionnaire filled in by the parents of each student. It contains crucial information on the immigration status of students and the languages they speak. "
   ]
  },
  {
   "cell_type": "code",
   "execution_count": 3,
   "metadata": {},
   "outputs": [
    {
     "name": "stdout",
     "output_type": "stream",
     "text": [
      "<class 'pandas.core.frame.DataFrame'>\n",
      "RangeIndex: 6032 entries, 0 to 6031\n",
      "Columns: 155 entries, IDCNTRY to SCOPE\n",
      "dtypes: float64(129), int64(26)\n",
      "memory usage: 7.1 MB\n"
     ]
    }
   ],
   "source": [
    "SC.info()"
   ]
  },
  {
   "cell_type": "markdown",
   "metadata": {},
   "source": [
    "SC is the Student Context data which is a questionnaire filled in by the students themselves as well as some totals on their achievement in the test. As we can see there are 6032 children who took part in this assessment in Turkey. "
   ]
  },
  {
   "cell_type": "markdown",
   "metadata": {},
   "source": [
    "Let's look at the ages these children came to the country. ASBH02B 1: Younger than 3 years old; 2: 3 to 5 years old; 3: 6 to 7 years old; 4: 8 years old or older"
   ]
  },
  {
   "cell_type": "code",
   "execution_count": 4,
   "metadata": {},
   "outputs": [
    {
     "name": "stdout",
     "output_type": "stream",
     "text": [
      "227\n"
     ]
    }
   ],
   "source": [
    "number_immigrant_children = HC[HC[\"ASBH02B\"]< 6.0].shape[0]\n",
    "print(number_immigrant_children)"
   ]
  },
  {
   "cell_type": "markdown",
   "metadata": {},
   "source": [
    "This is about 30 more than Germany but the Turkey sample size is bigger - 6032 kids, compared to 4611 in Germany. "
   ]
  },
  {
   "cell_type": "markdown",
   "metadata": {},
   "source": [
    "Now I will merge the two datasets together for fuller comparison potential."
   ]
  },
  {
   "cell_type": "code",
   "execution_count": 5,
   "metadata": {},
   "outputs": [],
   "source": [
    "df = pd.merge(HC, SC, on='IDSTUD', how='inner')"
   ]
  },
  {
   "cell_type": "code",
   "execution_count": 11,
   "metadata": {},
   "outputs": [
    {
     "data": {
      "text/plain": [
       "6.0    5366\n",
       "1.0      89\n",
       "2.0      70\n",
       "3.0      53\n",
       "9.0      31\n",
       "4.0      15\n",
       "Name: ASBH02B, dtype: int64"
      ]
     },
     "execution_count": 11,
     "metadata": {},
     "output_type": "execute_result"
    }
   ],
   "source": [
    "df['ASBH02B'].value_counts()"
   ]
  },
  {
   "cell_type": "code",
   "execution_count": 8,
   "metadata": {},
   "outputs": [],
   "source": [
    "selected_columns = [\"IDSTUD\",\"ASDAGE\",\"ASBH02B\"]"
   ]
  },
  {
   "cell_type": "code",
   "execution_count": 9,
   "metadata": {},
   "outputs": [
    {
     "name": "stdout",
     "output_type": "stream",
     "text": [
      "     IDSTUD  ASDAGE  ASBH02B\n",
      "0  50010601   10.17      6.0\n",
      "1  50010602    9.42      6.0\n",
      "2  50010603    9.50      6.0\n",
      "3  50010604    9.58      6.0\n",
      "4  50010605    9.58      6.0\n",
      "5  50010607   10.00      6.0\n",
      "6  50010608    9.92      6.0\n",
      "7  50010609    9.50      6.0\n",
      "8  50010610    9.92      6.0\n",
      "9  50010611    9.92      6.0\n"
     ]
    }
   ],
   "source": [
    "# Get the integer positions of the selected columns\n",
    "selected_columns_positions = [df.columns.get_loc(col) for col in selected_columns]\n",
    "\n",
    "# Print the first 10 rows of the selected columns\n",
    "print(df.iloc[:10, selected_columns_positions])"
   ]
  },
  {
   "cell_type": "markdown",
   "metadata": {},
   "source": [
    "How many children spoke Turkish before they started school? ASBH03A (1 is yes, 2 is no)"
   ]
  },
  {
   "cell_type": "code",
   "execution_count": 10,
   "metadata": {},
   "outputs": [
    {
     "data": {
      "text/plain": [
       "1.0    5080\n",
       "2.0     461\n",
       "9.0      83\n",
       "Name: ASBH03A, dtype: int64"
      ]
     },
     "execution_count": 10,
     "metadata": {},
     "output_type": "execute_result"
    }
   ],
   "source": [
    "df['ASBH03A'].value_counts()"
   ]
  },
  {
   "cell_type": "code",
   "execution_count": 12,
   "metadata": {},
   "outputs": [],
   "source": [
    "def populate_column(row):\n",
    "    if row['ASBH02B'] == 1:\n",
    "        return 0\n",
    "    elif row['ASBH02B'] == 2:\n",
    "        return 3\n",
    "    elif row['ASBH02B'] == 3:\n",
    "        return 6\n",
    "    elif row['ASBH02B'] == 4:\n",
    "        return 8\n",
    "    else:\n",
    "        return None  # Or any default value\n",
    "\n",
    "# Apply the function to each row\n",
    "df['MINAGEARRIVAL'] = df.apply(populate_column, axis=1)"
   ]
  },
  {
   "cell_type": "code",
   "execution_count": 15,
   "metadata": {},
   "outputs": [
    {
     "data": {
      "text/plain": [
       "0.0    89\n",
       "3.0    70\n",
       "6.0    53\n",
       "8.0    15\n",
       "Name: MINAGEARRIVAL, dtype: int64"
      ]
     },
     "execution_count": 15,
     "metadata": {},
     "output_type": "execute_result"
    }
   ],
   "source": [
    "df['MINAGEARRIVAL'].value_counts()"
   ]
  },
  {
   "cell_type": "code",
   "execution_count": 17,
   "metadata": {},
   "outputs": [
    {
     "data": {
      "text/plain": [
       "10.0    5092\n",
       "9.0      535\n",
       "11.0     369\n",
       "12.0      27\n",
       "14.0       4\n",
       "8.0        2\n",
       "13.0       2\n",
       "99.0       1\n",
       "Name: ASDAGE, dtype: int64"
      ]
     },
     "execution_count": 17,
     "metadata": {},
     "output_type": "execute_result"
    }
   ],
   "source": [
    "df['ASDAGE'].round().value_counts()"
   ]
  },
  {
   "cell_type": "code",
   "execution_count": 18,
   "metadata": {},
   "outputs": [],
   "source": [
    "df['rounded_ages'] = df['ASDAGE'].round()"
   ]
  },
  {
   "cell_type": "code",
   "execution_count": null,
   "metadata": {},
   "outputs": [],
   "source": []
  }
 ],
 "metadata": {
  "kernelspec": {
   "display_name": "Python 3",
   "language": "python",
   "name": "python3"
  },
  "language_info": {
   "codemirror_mode": {
    "name": "ipython",
    "version": 3
   },
   "file_extension": ".py",
   "mimetype": "text/x-python",
   "name": "python",
   "nbconvert_exporter": "python",
   "pygments_lexer": "ipython3",
   "version": "3.7.6"
  }
 },
 "nbformat": 4,
 "nbformat_minor": 4
}
